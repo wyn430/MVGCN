{
 "cells": [
  {
   "cell_type": "code",
   "execution_count": 1,
   "metadata": {
    "collapsed": true
   },
   "outputs": [],
   "source": [
    "%matplotlib inline\n",
    "import numpy as np\n",
    "import matplotlib.pyplot as plt\n",
    "from mpl_toolkits import mplot3d\n",
    "from mpl_toolkits.mplot3d import Axes3D\n",
    "import pygeodesic.geodesic as geodesic\n",
    "import pyvista as pv\n",
    "import vtk\n",
    "from vtk_helpers import *\n",
    "from scipy.spatial import Delaunay, ConvexHull\n",
    "import potpourri3d as pp3d\n",
    "from tqdm import tqdm\n",
    "import time"
   ]
  },
  {
   "cell_type": "code",
   "execution_count": null,
   "metadata": {
    "collapsed": true
   },
   "outputs": [],
   "source": [
    "root = \"./Surface_Defects_pcd_extend_2000_geod_estnorm_noise0001/\"\n",
    "folders = ['normal','raised', 'dent', 'crack']\n",
    "N = 50\n",
    "n = 2000\n",
    "for fold in folders:\n",
    "      \n",
    "    cate = root + fold + '/'\n",
    "\n",
    "    for i in tqdm(range(N)):\n",
    "        file = cate + fold + str(i+1) + '.txt'\n",
    "        pts = np.loadtxt(file, delimiter = ',')[:,:3]\n",
    "        \n",
    "        faces = Delaunay(pts)\n",
    "        mesh_1 = np.copy(faces.simplices)[:,:-1]\n",
    "        mesh_2 = np.copy(faces.simplices)[:,1:]\n",
    "        mesh = np.concatenate((mesh_1, mesh_2))\n",
    "        solver = pp3d.MeshHeatMethodDistanceSolver(pts,mesh,t_coef=0.01,use_robust=True)\n",
    "        pairwise_dist = np.zeros((n,n))\n",
    "        dis_filename = '.' + file.split('.')[1] + '_geodesic_dis.npz'\n",
    "#         print(dis_filename)\n",
    "        for i in range(n):\n",
    "            pairwise_dist[i,:] = solver.compute_distance(i)\n",
    "        \n",
    "        \n",
    "        np.savez(dis_filename, data = pairwise_dist)"
   ]
  }
 ],
 "metadata": {
  "kernelspec": {
   "display_name": "Python 3",
   "language": "python",
   "name": "python3"
  },
  "language_info": {
   "codemirror_mode": {
    "name": "ipython",
    "version": 3
   },
   "file_extension": ".py",
   "mimetype": "text/x-python",
   "name": "python",
   "nbconvert_exporter": "python",
   "pygments_lexer": "ipython3",
   "version": "3.7.7"
  }
 },
 "nbformat": 4,
 "nbformat_minor": 2
}
