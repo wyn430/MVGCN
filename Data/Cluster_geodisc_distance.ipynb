{
 "cells": [
  {
   "cell_type": "code",
   "execution_count": null,
   "metadata": {
    "collapsed": true
   },
   "outputs": [],
   "source": [
    "%matplotlib inline\n",
    "import numpy as np\n",
    "from numpy import linalg as LA\n",
    "import matplotlib.pyplot as plt\n",
    "from mpl_toolkits import mplot3d\n",
    "from mpl_toolkits.mplot3d import Axes3D\n",
    "import open3d as o3d\n",
    "from pyntcloud import PyntCloud \n",
    "from sklearn.cluster import KMeans, AgglomerativeClustering, SpectralClustering, DBSCAN, OPTICS, SpectralCoclustering\n",
    "from sklearn.metrics import pairwise_distances\n",
    "import json\n",
    "import os\n",
    "from glob import glob\n",
    "import random\n",
    "import torch\n",
    "import pygeodesic.geodesic as geodesic\n",
    "import pyvista as pv\n",
    "import vtk\n",
    "from vtk_helpers import *\n",
    "from scipy.spatial import Delaunay, ConvexHull\n",
    "import potpourri3d as pp3d\n",
    "from tqdm import tqdm\n",
    "np.random.seed(0)"
   ]
  },
  {
   "cell_type": "code",
   "execution_count": null,
   "metadata": {
    "collapsed": true
   },
   "outputs": [],
   "source": [
    "root = \"./Surface_Defects_pcd_extend_2000_geod_estnorm_noise0001/\"\n",
    "folders = ['normal']\n",
    "N = 50\n",
    "n = 2000\n",
    "k = 10\n",
    "sigma_list = []\n",
    "\n",
    "for fold in folders:\n",
    "      \n",
    "    cate = root + fold + '/'\n",
    "\n",
    "    for i in tqdm(range(N)):\n",
    "        file = cate + fold + str(i+1) + '.txt'\n",
    "        pts = np.loadtxt(file, delimiter = ',')[:,:3]\n",
    "        dist_file = cate + fold + str(i+1) + '_geodesic_dis.npz'\n",
    "        pair_dis = np.load(dist_file)['data']\n",
    "        max_value = pair_dis.max()\n",
    "        pair_dis[pair_dis<=0] = max_value\n",
    "        knn_index = np.zeros((n,k+1), dtype = np.int32)\n",
    "        knn_index[:,-1] = [i for i in range(n)]\n",
    "        knn_index[:,:k] = np.argpartition(pair_dis, k)[:,:k]\n",
    "        knn_graph = pts[knn_index]\n",
    "        m1 = knn_graph - knn_graph.mean(axis = 1, keepdims = 1)\n",
    "        cov = np.einsum('ikj,ikl->ijl',m1,m1) /(k)\n",
    "        e,_ = LA.eig(cov)\n",
    "        e.sort(axis=1)\n",
    "        sigma = e[:,0] / e.sum(axis = 1)\n",
    "        sigma_list.append(sigma)\n",
    "\n",
    "sigma_arr = np.concatenate(sigma_list, axis = 0)            \n",
    "normal_mean = sigma_arr.mean()\n",
    "normal_std = sigma_arr.std()"
   ]
  },
  {
   "cell_type": "code",
   "execution_count": null,
   "metadata": {
    "collapsed": true
   },
   "outputs": [],
   "source": [
    "normal_mean"
   ]
  },
  {
   "cell_type": "code",
   "execution_count": null,
   "metadata": {
    "collapsed": true
   },
   "outputs": [],
   "source": [
    "root = \"./Surface_Defects_pcd_extend_2000_geod_estnorm_noise0001/\"\n",
    "folders = ['raised', 'dent', 'crack']\n",
    "N = 50\n",
    "n = 2000\n",
    "k = 10\n",
    "thresh = normal_mean + 1.282 * normal_std ##80% CI\n",
    "for fold in folders:\n",
    "      \n",
    "    cate = root + fold + '/'\n",
    "\n",
    "    for i in tqdm(range(N)):\n",
    "        #file = \"./Surface_Defects_pcd_extend_2000_geod_estnorm/dent/dent1.txt\"\n",
    "        #dist_file = \"./Surface_Defects_pcd_extend_2000_geod_estnorm/dent/dent1_geodesic_dis.npz\"\n",
    "        file = cate + fold + str(i+1) + '.txt'\n",
    "        pts = np.loadtxt(file, delimiter = ',')[:,:3]\n",
    "        dist_file = cate + fold + str(i+1) + '_geodesic_dis.npz'\n",
    "        pair_dis = np.load(dist_file)['data']\n",
    "        max_value = pair_dis.max()\n",
    "        pair_dis[pair_dis<=0] = max_value\n",
    "        knn_index = np.zeros((n,k+1), dtype = np.int32)\n",
    "        knn_index[:,-1] = [i for i in range(n)]\n",
    "        knn_index[:,:k] = np.argpartition(pair_dis, k)[:,:k]\n",
    "        knn_graph = pts[knn_index]\n",
    "        m1 = knn_graph - knn_graph.mean(axis = 1, keepdims = 1)\n",
    "        cov = np.einsum('ikj,ikl->ijl',m1,m1) /(k)\n",
    "        e,_ = LA.eig(cov)\n",
    "        e.sort(axis=1)\n",
    "        sigma = e[:,0] / e.sum(axis = 1)\n",
    "        sigma[sigma>thresh] = 1\n",
    "        sigma[sigma<=thresh] = 0\n",
    "        #np.savez('./Surface_Defects_pcd_extend_2000_geod_estnorm/dent/dent1.npz', data = sigma)\n",
    "        #break\n",
    "        np.savez(cate + fold + str(i+1) + '.npz', data = sigma)"
   ]
  }
 ],
 "metadata": {
  "kernelspec": {
   "display_name": "Python 3",
   "language": "python",
   "name": "python3"
  },
  "language_info": {
   "codemirror_mode": {
    "name": "ipython",
    "version": 3
   },
   "file_extension": ".py",
   "mimetype": "text/x-python",
   "name": "python",
   "nbconvert_exporter": "python",
   "pygments_lexer": "ipython3",
   "version": "3.7.7"
  }
 },
 "nbformat": 4,
 "nbformat_minor": 2
}
